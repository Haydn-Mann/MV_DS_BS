{
 "cells": [
  {
   "cell_type": "code",
   "execution_count": 1,
   "id": "a165f042",
   "metadata": {},
   "outputs": [],
   "source": [
    "#Python is fun!\n",
    "\n",
    "v = 1"
   ]
  },
  {
   "cell_type": "code",
   "execution_count": 2,
   "id": "aaaa6b61",
   "metadata": {},
   "outputs": [
    {
     "data": {
      "text/plain": [
       "1"
      ]
     },
     "execution_count": 2,
     "metadata": {},
     "output_type": "execute_result"
    }
   ],
   "source": [
    "v"
   ]
  },
  {
   "cell_type": "code",
   "execution_count": 3,
   "id": "2b7a4064",
   "metadata": {},
   "outputs": [],
   "source": [
    "ds_ga = 'Hello'"
   ]
  },
  {
   "cell_type": "code",
   "execution_count": 4,
   "id": "b012d57a",
   "metadata": {},
   "outputs": [
    {
     "data": {
      "text/plain": [
       "'Hello'"
      ]
     },
     "execution_count": 4,
     "metadata": {},
     "output_type": "execute_result"
    }
   ],
   "source": [
    "ds_ga"
   ]
  },
  {
   "cell_type": "code",
   "execution_count": 5,
   "id": "97d89b57",
   "metadata": {},
   "outputs": [],
   "source": [
    "ds_ga = \"Hello\""
   ]
  },
  {
   "cell_type": "code",
   "execution_count": 6,
   "id": "cf5c0b21",
   "metadata": {},
   "outputs": [
    {
     "data": {
      "text/plain": [
       "'Hello'"
      ]
     },
     "execution_count": 6,
     "metadata": {},
     "output_type": "execute_result"
    }
   ],
   "source": [
    "ds_ga"
   ]
  },
  {
   "cell_type": "code",
   "execution_count": 7,
   "id": "e8fa85e9",
   "metadata": {},
   "outputs": [
    {
     "name": "stdout",
     "output_type": "stream",
     "text": [
      "Hello\n"
     ]
    }
   ],
   "source": [
    "print(ds_ga)"
   ]
  },
  {
   "cell_type": "code",
   "execution_count": 8,
   "id": "6334f777",
   "metadata": {},
   "outputs": [],
   "source": [
    "ds_ga = 'Hello, they\\'re over there' #assigning a string to a variable"
   ]
  },
  {
   "cell_type": "code",
   "execution_count": 9,
   "id": "e1b49769",
   "metadata": {},
   "outputs": [
    {
     "name": "stdout",
     "output_type": "stream",
     "text": [
      "Hello, they're over there\n"
     ]
    }
   ],
   "source": [
    "print(ds_ga)"
   ]
  },
  {
   "cell_type": "code",
   "execution_count": 10,
   "id": "b41eb913",
   "metadata": {},
   "outputs": [
    {
     "name": "stdout",
     "output_type": "stream",
     "text": [
      "3.5\n"
     ]
    }
   ],
   "source": [
    "x = 1.0 \n",
    "y = 2.5\n",
    "print(x+y)"
   ]
  },
  {
   "cell_type": "code",
   "execution_count": 11,
   "id": "174b0207",
   "metadata": {},
   "outputs": [
    {
     "data": {
      "text/plain": [
       "float"
      ]
     },
     "execution_count": 11,
     "metadata": {},
     "output_type": "execute_result"
    }
   ],
   "source": [
    "type(x)"
   ]
  },
  {
   "cell_type": "code",
   "execution_count": 12,
   "id": "4e2b97ed",
   "metadata": {},
   "outputs": [
    {
     "data": {
      "text/plain": [
       "str"
      ]
     },
     "execution_count": 12,
     "metadata": {},
     "output_type": "execute_result"
    }
   ],
   "source": [
    "z = 'hello'\n",
    "type(z)"
   ]
  },
  {
   "cell_type": "code",
   "execution_count": null,
   "id": "b500be18",
   "metadata": {},
   "outputs": [],
   "source": [
    "\n"
   ]
  }
 ],
 "metadata": {
  "kernelspec": {
   "display_name": "Python 3",
   "language": "python",
   "name": "python3"
  },
  "language_info": {
   "codemirror_mode": {
    "name": "ipython",
    "version": 3
   },
   "file_extension": ".py",
   "mimetype": "text/x-python",
   "name": "python",
   "nbconvert_exporter": "python",
   "pygments_lexer": "ipython3",
   "version": "3.8.8"
  }
 },
 "nbformat": 4,
 "nbformat_minor": 5
}
